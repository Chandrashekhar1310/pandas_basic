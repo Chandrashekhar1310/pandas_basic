{
 "cells": [
  {
   "cell_type": "markdown",
   "id": "5697fee0-b658-4f5d-865e-44b0e6f75f3d",
   "metadata": {},
   "source": [
    "# Q1. Create a Pandas Series that contains the following data: 4, 8, 15, 16, 23, and 42. Then, print the series."
   ]
  },
  {
   "cell_type": "code",
   "execution_count": 3,
   "id": "a9b9e3a3-b3ac-4921-8a47-c37c204c05cf",
   "metadata": {},
   "outputs": [],
   "source": [
    "import pandas as pd\n",
    "df =  pd.Series([4, 8, 15, 16, 23,42])"
   ]
  },
  {
   "cell_type": "code",
   "execution_count": 4,
   "id": "a5694fc2-86f8-4200-b98a-d3cb34e2499c",
   "metadata": {},
   "outputs": [
    {
     "data": {
      "text/plain": [
       "0     4\n",
       "1     8\n",
       "2    15\n",
       "3    16\n",
       "4    23\n",
       "5    42\n",
       "dtype: int64"
      ]
     },
     "execution_count": 4,
     "metadata": {},
     "output_type": "execute_result"
    }
   ],
   "source": [
    "df"
   ]
  },
  {
   "cell_type": "markdown",
   "id": "66aa2e6e-c8c5-4f58-9677-fa0a847f0c36",
   "metadata": {},
   "source": [
    "# Q2. Create a variable of list type containing 10 elements in it, and apply pandas.Series function on the variable print it."
   ]
  },
  {
   "cell_type": "code",
   "execution_count": 6,
   "id": "8b239caa-e24d-4c04-bb52-756ac50cb626",
   "metadata": {},
   "outputs": [
    {
     "name": "stdout",
     "output_type": "stream",
     "text": [
      "0     1\n",
      "1     2\n",
      "2     3\n",
      "3     4\n",
      "4     5\n",
      "5     6\n",
      "6     7\n",
      "7     8\n",
      "8     9\n",
      "9    10\n",
      "dtype: int64\n"
     ]
    }
   ],
   "source": [
    "list = [1,2,3,4,5,6,7,8,9,10]\n",
    "series  =  pd.Series(list)\n",
    "print(series)"
   ]
  },
  {
   "cell_type": "markdown",
   "id": "448321c9-25d9-4505-8267-9ebff99e11c3",
   "metadata": {},
   "source": [
    "# Q3. Create a Pandas DataFrame that contains the following data: Then, print the DataFrame."
   ]
  },
  {
   "cell_type": "code",
   "execution_count": 7,
   "id": "06d64811-4749-4ca0-ab9f-ca365d1b109b",
   "metadata": {},
   "outputs": [],
   "source": [
    "df1 = pd.DataFrame({\"Name\" :['Alice' ,'Bob' ,'Claire'] ,\n",
    "                    \"Age\" : [25 ,30 ,27],\n",
    "                    \"Gender\" : ['Female','Male','Female']\n",
    "                   })"
   ]
  },
  {
   "cell_type": "code",
   "execution_count": 8,
   "id": "cfbd0c0c-2c85-468e-a2a9-656e2e79ec76",
   "metadata": {},
   "outputs": [
    {
     "data": {
      "text/html": [
       "<div>\n",
       "<style scoped>\n",
       "    .dataframe tbody tr th:only-of-type {\n",
       "        vertical-align: middle;\n",
       "    }\n",
       "\n",
       "    .dataframe tbody tr th {\n",
       "        vertical-align: top;\n",
       "    }\n",
       "\n",
       "    .dataframe thead th {\n",
       "        text-align: right;\n",
       "    }\n",
       "</style>\n",
       "<table border=\"1\" class=\"dataframe\">\n",
       "  <thead>\n",
       "    <tr style=\"text-align: right;\">\n",
       "      <th></th>\n",
       "      <th>Name</th>\n",
       "      <th>Age</th>\n",
       "      <th>Gender</th>\n",
       "    </tr>\n",
       "  </thead>\n",
       "  <tbody>\n",
       "    <tr>\n",
       "      <th>0</th>\n",
       "      <td>Alice</td>\n",
       "      <td>25</td>\n",
       "      <td>Female</td>\n",
       "    </tr>\n",
       "    <tr>\n",
       "      <th>1</th>\n",
       "      <td>Bob</td>\n",
       "      <td>30</td>\n",
       "      <td>Male</td>\n",
       "    </tr>\n",
       "    <tr>\n",
       "      <th>2</th>\n",
       "      <td>Claire</td>\n",
       "      <td>27</td>\n",
       "      <td>Female</td>\n",
       "    </tr>\n",
       "  </tbody>\n",
       "</table>\n",
       "</div>"
      ],
      "text/plain": [
       "     Name  Age  Gender\n",
       "0   Alice   25  Female\n",
       "1     Bob   30    Male\n",
       "2  Claire   27  Female"
      ]
     },
     "execution_count": 8,
     "metadata": {},
     "output_type": "execute_result"
    }
   ],
   "source": [
    "df1"
   ]
  },
  {
   "cell_type": "markdown",
   "id": "07d24e69-4313-4329-80df-a8e069137350",
   "metadata": {},
   "source": [
    "# Q4. What is ‘DataFrame’ in pandas and how is it different from pandas.series? Explain with an example."
   ]
  },
  {
   "cell_type": "markdown",
   "id": "954c8023-99cb-470b-a17e-70c581033c2b",
   "metadata": {},
   "source": [
    "In Pandas, a DataFrame is a two-dimensional tabular data structure with labeled axes (rows and columns) that can store and manipulate data in a flexible and efficient manner. It can be thought of as similar to a spreadsheet or a SQL table, where data is organized in rows and columns. A DataFrame can have columns of different data types, such as numerical, categorical, and textual data, and it provides powerful functionalities for data cleaning, data analysis, and data manipulation.\n",
    "\n",
    "On the other hand, a Series in Pandas is a one-dimensional labeled array that can store data of any data type, such as integers, floats, strings, etc. A Series can be considered as a single column of a DataFrame. A DataFrame can contain one or more Series arranged in columns, with each Series having its own label (column name) and index.\n",
    "\n",
    "Here's an example to illustrate the difference between a DataFrame and a Series in Pandas:"
   ]
  },
  {
   "cell_type": "code",
   "execution_count": 9,
   "id": "ed5ba295-cec2-4e7a-b826-9422dc0a8cba",
   "metadata": {},
   "outputs": [
    {
     "name": "stdout",
     "output_type": "stream",
     "text": [
      "    Name  Age         City\n",
      "0   John   25     New York\n",
      "1  Alice   30  Los Angeles\n",
      "2    Bob   35      Chicago\n",
      "0     John\n",
      "1    Alice\n",
      "2      Bob\n",
      "Name: Name, dtype: object\n"
     ]
    }
   ],
   "source": [
    "import pandas as pd\n",
    "\n",
    "# Creating a DataFrame\n",
    "df = pd.DataFrame({'Name': ['John', 'Alice', 'Bob'],\n",
    "                   'Age': [25, 30, 35],\n",
    "                   'City': ['New York', 'Los Angeles', 'Chicago']})\n",
    "\n",
    "# Printing the DataFrame\n",
    "print(df)\n",
    "\n",
    "# Output:\n",
    "#    Name  Age           City\n",
    "# 0  John   25        New York\n",
    "# 1 Alice   30     Los Angeles\n",
    "# 2   Bob   35           Chicago\n",
    "\n",
    "# Accessing a single column as a Series\n",
    "name_series = df['Name']\n",
    "\n",
    "# Printing the Series\n",
    "print(name_series)\n",
    "\n",
    "# Output:\n",
    "# 0    John\n",
    "# 1    Alice\n",
    "# 2      Bob\n",
    "# Name: Name, dtype: object\n"
   ]
  },
  {
   "cell_type": "markdown",
   "id": "6f912a26-b0e5-48e3-828d-35aacd19e87b",
   "metadata": {},
   "source": [
    "# Q5. What are some common functions you can use to manipulate data in a Pandas DataFrame? Can you give an example of when you might use one of these functions?"
   ]
  },
  {
   "cell_type": "markdown",
   "id": "00c9af85-54b8-4b7a-afcd-a0edd28a4f3f",
   "metadata": {},
   "source": [
    "Pandas provides a rich set of built-in functions for data manipulation in a DataFrame. Some common functions that can be used to manipulate data in a Pandas DataFrame include:\n",
    "\n",
    "1. drop(): This function is used to drop specified rows or columns from a DataFrame. For example, you can drop columns that are not needed in your analysis or drop rows with missing values."
   ]
  },
  {
   "cell_type": "code",
   "execution_count": 10,
   "id": "a683c0bf-58fa-452b-b6a6-5a8c281c45da",
   "metadata": {},
   "outputs": [
    {
     "name": "stdout",
     "output_type": "stream",
     "text": [
      "   A  C\n",
      "0  1  7\n",
      "1  2  8\n",
      "2  3  9\n"
     ]
    }
   ],
   "source": [
    "# Create a DataFrame\n",
    "df = pd.DataFrame({'A': [1, 2, 3],\n",
    "                   'B': [4, 5, 6],\n",
    "                   'C': [7, 8, 9]})\n",
    "\n",
    "# Drop column 'B'\n",
    "df = df.drop('B', axis=1)\n",
    "\n",
    "# Display the updated DataFrame\n",
    "print(df)\n",
    "\n"
   ]
  },
  {
   "cell_type": "markdown",
   "id": "8640f2a0-294a-45f4-b232-8f723fbb2809",
   "metadata": {},
   "source": [
    "2. rename(): This function is used to rename columns or index labels in a DataFrame. It is useful when you want to change the names of columns to make them more meaningful or to align with your analysis."
   ]
  },
  {
   "cell_type": "code",
   "execution_count": 11,
   "id": "390ec426-ef09-4c2d-8397-fa3d8b6494fa",
   "metadata": {},
   "outputs": [
    {
     "name": "stdout",
     "output_type": "stream",
     "text": [
      "   Name  Age  City\n",
      "0     1    4     7\n",
      "1     2    5     8\n",
      "2     3    6     9\n"
     ]
    }
   ],
   "source": [
    "# Create a DataFrame\n",
    "df = pd.DataFrame({'OldName': [1, 2, 3],\n",
    "                   'OldAge': [4, 5, 6],\n",
    "                   'OldCity': [7, 8, 9]})\n",
    "\n",
    "# Rename columns\n",
    "df = df.rename(columns={'OldName': 'Name', 'OldAge': 'Age', 'OldCity': 'City'})\n",
    "\n",
    "# Display the updated DataFrame\n",
    "print(df)\n"
   ]
  },
  {
   "cell_type": "markdown",
   "id": "4b16c6ad-c422-435f-9a1f-2e75803c3281",
   "metadata": {},
   "source": [
    "3. groupby(): This function is used to group data in a DataFrame based on one or more columns, and then perform aggregation or transformation operations on the grouped data. It is useful for performing group-wise analysis and calculating statistics."
   ]
  },
  {
   "cell_type": "code",
   "execution_count": 12,
   "id": "badce87f-8e08-4495-9a39-5e44fc9064fa",
   "metadata": {},
   "outputs": [
    {
     "name": "stdout",
     "output_type": "stream",
     "text": [
      "Name\n",
      "Alice    29.0\n",
      "Bob      35.0\n",
      "John     23.5\n",
      "Name: Age, dtype: float64\n"
     ]
    }
   ],
   "source": [
    "# Create a DataFrame\n",
    "df = pd.DataFrame({'Name': ['John', 'Alice', 'Bob', 'Alice', 'John'],\n",
    "                   'Age': [25, 30, 35, 28, 22],\n",
    "                   'City': ['New York', 'Los Angeles', 'Chicago', 'Los Angeles', 'New York']})\n",
    "\n",
    "# Group data by 'Name' and calculate average age for each group\n",
    "avg_age_by_name = df.groupby('Name')['Age'].mean()\n",
    "\n",
    "# Display the average age by name\n",
    "print(avg_age_by_name)"
   ]
  },
  {
   "cell_type": "markdown",
   "id": "ffeab756-feae-4cde-a2eb-67ab8484bd06",
   "metadata": {},
   "source": [
    "4. sort_values(): This function is used to sort the rows of a DataFrame based on the values in one or more columns. It is useful when you want to arrange the data in a specific order for analysis or visualization."
   ]
  },
  {
   "cell_type": "code",
   "execution_count": 14,
   "id": "51ded620-1797-450d-871f-fd24d4da21aa",
   "metadata": {},
   "outputs": [
    {
     "data": {
      "text/html": [
       "<div>\n",
       "<style scoped>\n",
       "    .dataframe tbody tr th:only-of-type {\n",
       "        vertical-align: middle;\n",
       "    }\n",
       "\n",
       "    .dataframe tbody tr th {\n",
       "        vertical-align: top;\n",
       "    }\n",
       "\n",
       "    .dataframe thead th {\n",
       "        text-align: right;\n",
       "    }\n",
       "</style>\n",
       "<table border=\"1\" class=\"dataframe\">\n",
       "  <thead>\n",
       "    <tr style=\"text-align: right;\">\n",
       "      <th></th>\n",
       "      <th>Name</th>\n",
       "      <th>Age</th>\n",
       "      <th>City</th>\n",
       "    </tr>\n",
       "  </thead>\n",
       "  <tbody>\n",
       "    <tr>\n",
       "      <th>0</th>\n",
       "      <td>John</td>\n",
       "      <td>25</td>\n",
       "      <td>New York</td>\n",
       "    </tr>\n",
       "    <tr>\n",
       "      <th>1</th>\n",
       "      <td>Alice</td>\n",
       "      <td>30</td>\n",
       "      <td>Los Angeles</td>\n",
       "    </tr>\n",
       "    <tr>\n",
       "      <th>2</th>\n",
       "      <td>Bob</td>\n",
       "      <td>35</td>\n",
       "      <td>Chicago</td>\n",
       "    </tr>\n",
       "  </tbody>\n",
       "</table>\n",
       "</div>"
      ],
      "text/plain": [
       "    Name  Age         City\n",
       "0   John   25     New York\n",
       "1  Alice   30  Los Angeles\n",
       "2    Bob   35      Chicago"
      ]
     },
     "execution_count": 14,
     "metadata": {},
     "output_type": "execute_result"
    }
   ],
   "source": [
    "# Create a DataFrame\n",
    "df = pd.DataFrame({'Name': ['John', 'Alice', 'Bob'],\n",
    "                   'Age': [25, 30, 35],\n",
    "                   'City': ['New York', 'Los Angeles', 'Chicago']})\n",
    "\n",
    "# Sort the DataFrame by 'Age' column in ascending order\n",
    "df = df.sort_values('Age', ascending=True)\n",
    "df\n"
   ]
  },
  {
   "cell_type": "markdown",
   "id": "5e3b69d2-d1f1-4a97-b660-920cbdeb7919",
   "metadata": {},
   "source": [
    "# Q6. Which of the following is mutable in nature Series, DataFrame, Panel?"
   ]
  },
  {
   "cell_type": "markdown",
   "id": "85d95009-372d-4f73-bf9c-d788b1b3af16",
   "metadata": {},
   "source": [
    "Series: A Series is a one-dimensional labeled array in Pandas, which can hold data of various types (numeric, string, boolean, etc.). Series objects are mutable, meaning their values and labels can be modified after they are created.\n",
    "\n",
    "DataFrame: A DataFrame is a two-dimensional labeled data structure in Pandas, consisting of rows and columns. It is similar to a spreadsheet or SQL table. DataFrame objects are also mutable, meaning their values, column names, and index labels can be modified after they are created.\n",
    "\n",
    "Panel: A Panel is a three-dimensional labeled data structure in Pandas, which can hold data of various types in a tabular format with multiple axes. However, Panels are deprecated in recent versions of Pandas and are not recommended for use. Panel objects are not mutable, meaning their values, item names, and axis labels cannot be modified after they are created. Instead, it is recommended to use multi-dimensional DataFrames or other data structures provided by Pandas."
   ]
  },
  {
   "cell_type": "markdown",
   "id": "e209e17d-c57e-43bf-9ad6-fca6fc7ffbb7",
   "metadata": {},
   "source": [
    "# Q7. Create a DataFrame using multiple Series. Explain with an example."
   ]
  },
  {
   "cell_type": "code",
   "execution_count": 15,
   "id": "5beede2a-bd16-4151-b120-72cffb211954",
   "metadata": {},
   "outputs": [
    {
     "name": "stdout",
     "output_type": "stream",
     "text": [
      "      Name  Age         City\n",
      "0    Alice   25     New York\n",
      "1      Bob   30  Los Angeles\n",
      "2  Charlie   35      Chicago\n"
     ]
    }
   ],
   "source": [
    "name = pd.Series(['Alice', 'Bob', 'Charlie'])\n",
    "age = pd.Series([25, 30, 35])\n",
    "city = pd.Series(['New York', 'Los Angeles', 'Chicago'])\n",
    "\n",
    "# Create DataFrame using multiple Series\n",
    "df = pd.DataFrame({'Name': name, 'Age': age, 'City': city})\n",
    "\n",
    "\n",
    "print(df)\n"
   ]
  },
  {
   "cell_type": "code",
   "execution_count": null,
   "id": "ea73df8a-9c35-4e21-b69c-f87b1b660273",
   "metadata": {},
   "outputs": [],
   "source": []
  }
 ],
 "metadata": {
  "kernelspec": {
   "display_name": "Python 3 (ipykernel)",
   "language": "python",
   "name": "python3"
  },
  "language_info": {
   "codemirror_mode": {
    "name": "ipython",
    "version": 3
   },
   "file_extension": ".py",
   "mimetype": "text/x-python",
   "name": "python",
   "nbconvert_exporter": "python",
   "pygments_lexer": "ipython3",
   "version": "3.10.8"
  }
 },
 "nbformat": 4,
 "nbformat_minor": 5
}
